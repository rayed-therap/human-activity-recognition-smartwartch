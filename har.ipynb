{
 "cells": [
  {
   "cell_type": "code",
   "execution_count": 1,
   "metadata": {},
   "outputs": [],
   "source": [
    "import numpy as np\n",
    "import pandas as pd\n",
    "from sklearn.preprocessing import LabelEncoder\n",
    "from sklearn.model_selection import train_test_split"
   ]
  },
  {
   "cell_type": "code",
   "execution_count": 87,
   "metadata": {},
   "outputs": [],
   "source": [
    "# 5 secs of data (20 * 5)\n",
    "SEQ_LEN = 100 \n",
    "FEATURE_LEN = 6\n",
    "COLUMNS = ['accel_x', 'accel_y', 'accel_z', 'gyro_x', 'gyro_y', 'gyro_z', 'label']"
   ]
  },
  {
   "cell_type": "code",
   "execution_count": 3,
   "metadata": {},
   "outputs": [],
   "source": [
    "har_df = pd.read_csv('data/har.csv')"
   ]
  },
  {
   "cell_type": "code",
   "execution_count": 4,
   "metadata": {},
   "outputs": [],
   "source": [
    "label_encoder = LabelEncoder()\n",
    "har_df['label'] = label_encoder.fit_transform(har_df.activity)"
   ]
  },
  {
   "cell_type": "code",
   "execution_count": 5,
   "metadata": {},
   "outputs": [
    {
     "data": {
      "text/html": [
       "<div>\n",
       "<style scoped>\n",
       "    .dataframe tbody tr th:only-of-type {\n",
       "        vertical-align: middle;\n",
       "    }\n",
       "\n",
       "    .dataframe tbody tr th {\n",
       "        vertical-align: top;\n",
       "    }\n",
       "\n",
       "    .dataframe thead th {\n",
       "        text-align: right;\n",
       "    }\n",
       "</style>\n",
       "<table border=\"1\" class=\"dataframe\">\n",
       "  <thead>\n",
       "    <tr style=\"text-align: right;\">\n",
       "      <th></th>\n",
       "      <th>subject_id</th>\n",
       "      <th>activity</th>\n",
       "      <th>timestamp</th>\n",
       "      <th>accel_x</th>\n",
       "      <th>accel_y</th>\n",
       "      <th>accel_z</th>\n",
       "      <th>gyro_x</th>\n",
       "      <th>gyro_y</th>\n",
       "      <th>gyro_z</th>\n",
       "      <th>label</th>\n",
       "    </tr>\n",
       "  </thead>\n",
       "  <tbody>\n",
       "    <tr>\n",
       "      <th>0</th>\n",
       "      <td>1600</td>\n",
       "      <td>walking</td>\n",
       "      <td>90426757696641</td>\n",
       "      <td>4.972757</td>\n",
       "      <td>-0.158317</td>\n",
       "      <td>6.696732</td>\n",
       "      <td>0.314944</td>\n",
       "      <td>-1.022277</td>\n",
       "      <td>-0.309962</td>\n",
       "      <td>16</td>\n",
       "    </tr>\n",
       "    <tr>\n",
       "      <th>1</th>\n",
       "      <td>1600</td>\n",
       "      <td>walking</td>\n",
       "      <td>90426807196641</td>\n",
       "      <td>3.253720</td>\n",
       "      <td>-0.191835</td>\n",
       "      <td>6.107758</td>\n",
       "      <td>0.387382</td>\n",
       "      <td>-0.618541</td>\n",
       "      <td>-0.048972</td>\n",
       "      <td>16</td>\n",
       "    </tr>\n",
       "    <tr>\n",
       "      <th>2</th>\n",
       "      <td>1600</td>\n",
       "      <td>walking</td>\n",
       "      <td>90426856696641</td>\n",
       "      <td>2.801216</td>\n",
       "      <td>-0.155922</td>\n",
       "      <td>5.997625</td>\n",
       "      <td>0.070999</td>\n",
       "      <td>-0.209480</td>\n",
       "      <td>-0.195978</td>\n",
       "      <td>16</td>\n",
       "    </tr>\n",
       "    <tr>\n",
       "      <th>3</th>\n",
       "      <td>1600</td>\n",
       "      <td>walking</td>\n",
       "      <td>90426906196641</td>\n",
       "      <td>3.770868</td>\n",
       "      <td>-1.051354</td>\n",
       "      <td>7.731027</td>\n",
       "      <td>0.037975</td>\n",
       "      <td>0.254976</td>\n",
       "      <td>-0.156563</td>\n",
       "      <td>16</td>\n",
       "    </tr>\n",
       "    <tr>\n",
       "      <th>4</th>\n",
       "      <td>1600</td>\n",
       "      <td>walking</td>\n",
       "      <td>90426955696641</td>\n",
       "      <td>4.661511</td>\n",
       "      <td>0.169689</td>\n",
       "      <td>9.684695</td>\n",
       "      <td>0.073129</td>\n",
       "      <td>0.719431</td>\n",
       "      <td>-0.001035</td>\n",
       "      <td>16</td>\n",
       "    </tr>\n",
       "  </tbody>\n",
       "</table>\n",
       "</div>"
      ],
      "text/plain": [
       "   subject_id activity       timestamp   accel_x   accel_y   accel_z  \\\n",
       "0        1600  walking  90426757696641  4.972757 -0.158317  6.696732   \n",
       "1        1600  walking  90426807196641  3.253720 -0.191835  6.107758   \n",
       "2        1600  walking  90426856696641  2.801216 -0.155922  5.997625   \n",
       "3        1600  walking  90426906196641  3.770868 -1.051354  7.731027   \n",
       "4        1600  walking  90426955696641  4.661511  0.169689  9.684695   \n",
       "\n",
       "     gyro_x    gyro_y    gyro_z  label  \n",
       "0  0.314944 -1.022277 -0.309962     16  \n",
       "1  0.387382 -0.618541 -0.048972     16  \n",
       "2  0.070999 -0.209480 -0.195978     16  \n",
       "3  0.037975  0.254976 -0.156563     16  \n",
       "4  0.073129  0.719431 -0.001035     16  "
      ]
     },
     "execution_count": 5,
     "metadata": {},
     "output_type": "execute_result"
    }
   ],
   "source": [
    "har_df.head()"
   ]
  },
  {
   "cell_type": "code",
   "execution_count": 94,
   "metadata": {},
   "outputs": [
    {
     "data": {
      "text/plain": [
       "((2856541, 11), (317394, 11))"
      ]
     },
     "execution_count": 94,
     "metadata": {},
     "output_type": "execute_result"
    }
   ],
   "source": [
    "train_df, test_df = train_test_split(har_df, train_size = .9, random_state=42, shuffle=False)\n",
    "train_df.reset_index(inplace=True)\n",
    "test_df.reset_index(inplace=True)\n",
    "train_df.shape, test_df.shape"
   ]
  },
  {
   "cell_type": "code",
   "execution_count": 90,
   "metadata": {},
   "outputs": [],
   "source": [
    "import itertools\n",
    "from scipy import stats\n",
    "\n",
    "def prepare_dataset(df):\n",
    "    global SEQ_LEN, COLUMNS\n",
    "    \n",
    "    X = []\n",
    "    y = []\n",
    "    \n",
    "    for i in range(0, len(df), SEQ_LEN):\n",
    "        features = df.loc[i:i+SEQ_LEN-1, COLUMNS[:-1]].values\n",
    "        label = stats.mode(df.loc[i:i+SEQ_LEN-1, COLUMNS[-1]].values)[0][0]\n",
    "        \n",
    "        if len(features) != SEQ_LEN:\n",
    "            continue\n",
    "        \n",
    "        X.append(features.reshape(-1, SEQ_LEN, len(COLUMNS[:-1])))\n",
    "        y.append(label)\n",
    "        \n",
    "    return np.concatenate(X), np.asarray(y)"
   ]
  },
  {
   "cell_type": "code",
   "execution_count": 84,
   "metadata": {},
   "outputs": [
    {
     "data": {
      "text/plain": [
       "(28565, 100, 6)"
      ]
     },
     "metadata": {},
     "output_type": "display_data"
    },
    {
     "data": {
      "text/plain": [
       "(28565,)"
      ]
     },
     "metadata": {},
     "output_type": "display_data"
    }
   ],
   "source": [
    "X_train, y_train = prepare_dataset(train_df)\n",
    "\n",
    "display(X_train.shape)\n",
    "display(y_train.shape)"
   ]
  },
  {
   "cell_type": "code",
   "execution_count": 85,
   "metadata": {},
   "outputs": [
    {
     "data": {
      "text/plain": [
       "array([ 4.972757 ,  3.25372  ,  2.801216 ,  3.7708676,  4.661511 ,\n",
       "        6.145916 ,  7.2592196,  7.3549876,  7.3190746,  7.548918 ,\n",
       "        5.3318872,  4.4316673,  3.4093432,  3.1292217,  4.936844 ,\n",
       "       11.669339 , 14.561535 , 17.616535 , 19.017143 , 15.775395 ,\n",
       "       12.210428 ,  7.6494746,  6.8785415,  6.291962 ,  8.767567 ,\n",
       "       12.732365 , 14.449007 , 17.678785 , 15.315708 , 19.761143 ,\n",
       "       19.201498 , 11.374852 ,  8.841787 ,  5.8346696,  7.180211 ,\n",
       "        9.0476885,  7.654263 , 10.292673 , 12.643779 , 13.172897 ,\n",
       "       13.599066 , 12.605472 , 11.513716 , 11.908759 , 13.706804 ,\n",
       "       13.034034 , 14.923059 , 17.28853  , 16.139313 , 19.752165 ,\n",
       "       18.150444 , 10.34774  ,  8.616732 ,  8.293514 ,  8.377312 ,\n",
       "        7.905654 ,  6.991069 , 10.000581 , 12.2798605, 15.634137 ,\n",
       "       15.86398  , 11.633426 , 13.412318 , 11.973403 , 14.061147 ,\n",
       "       12.674904 , 17.597382 , 15.7323   , 19.65879  , 19.146431 ,\n",
       "       13.692439 , 10.742783 , 10.498574 ,  9.239224 ,  9.088389 ,\n",
       "        6.7827735,  6.38773  ,  7.9463553, 12.34211  , 13.12262  ,\n",
       "       14.800955 , 13.929465 , 13.776237 , 12.01171  , 11.221623 ,\n",
       "       12.39957  , 16.649279 , 16.673222 , 17.120935 , 18.131289 ,\n",
       "       13.328521 ,  9.866506 ,  8.283937 ,  7.553706 ,  8.396465 ,\n",
       "        7.920019 ,  6.4427967, 10.529699 , 14.018051 , 17.824831 ])"
      ]
     },
     "execution_count": 85,
     "metadata": {},
     "output_type": "execute_result"
    }
   ],
   "source": [
    "X_train[0, :180, 0]"
   ]
  },
  {
   "cell_type": "code",
   "execution_count": 86,
   "metadata": {},
   "outputs": [
    {
     "data": {
      "text/plain": [
       "[<matplotlib.lines.Line2D at 0x7fde4960fb90>]"
      ]
     },
     "execution_count": 86,
     "metadata": {},
     "output_type": "execute_result"
    },
    {
     "data": {
      "image/png": "[encoded data removed]",
      "text/plain": [
       "<Figure size 432x288 with 1 Axes>"
      ]
     },
     "metadata": {
      "needs_background": "light"
     },
     "output_type": "display_data"
    }
   ],
   "source": [
    "import matplotlib.pyplot as plt\n",
    "\n",
    "plt.plot(range(0, len(X_train[100, :1080, 0])), X_train[100, :1080, 0])"
   ]
  },
  {
   "cell_type": "code",
   "execution_count": 52,
   "metadata": {},
   "outputs": [
    {
     "data": {
      "text/html": [
       "<div>\n",
       "<style scoped>\n",
       "    .dataframe tbody tr th:only-of-type {\n",
       "        vertical-align: middle;\n",
       "    }\n",
       "\n",
       "    .dataframe tbody tr th {\n",
       "        vertical-align: top;\n",
       "    }\n",
       "\n",
       "    .dataframe thead th {\n",
       "        text-align: right;\n",
       "    }\n",
       "</style>\n",
       "<table border=\"1\" class=\"dataframe\">\n",
       "  <thead>\n",
       "    <tr style=\"text-align: right;\">\n",
       "      <th></th>\n",
       "      <th>subject_id</th>\n",
       "      <th>activity</th>\n",
       "      <th>timestamp</th>\n",
       "      <th>accel_x</th>\n",
       "      <th>accel_y</th>\n",
       "      <th>accel_z</th>\n",
       "      <th>gyro_x</th>\n",
       "      <th>gyro_y</th>\n",
       "      <th>gyro_z</th>\n",
       "      <th>label</th>\n",
       "    </tr>\n",
       "  </thead>\n",
       "  <tbody>\n",
       "    <tr>\n",
       "      <th>2856541</th>\n",
       "      <td>1646</td>\n",
       "      <td>stairs</td>\n",
       "      <td>1469101057176660</td>\n",
       "      <td>5.927744</td>\n",
       "      <td>-0.544382</td>\n",
       "      <td>1.801786</td>\n",
       "      <td>-0.453196</td>\n",
       "      <td>-0.850242</td>\n",
       "      <td>-1.097563</td>\n",
       "      <td>12</td>\n",
       "    </tr>\n",
       "    <tr>\n",
       "      <th>2856542</th>\n",
       "      <td>1646</td>\n",
       "      <td>stairs</td>\n",
       "      <td>1469101107162550</td>\n",
       "      <td>7.632416</td>\n",
       "      <td>-0.192434</td>\n",
       "      <td>1.409137</td>\n",
       "      <td>-0.899542</td>\n",
       "      <td>-1.831350</td>\n",
       "      <td>-1.386250</td>\n",
       "      <td>12</td>\n",
       "    </tr>\n",
       "    <tr>\n",
       "      <th>2856543</th>\n",
       "      <td>1646</td>\n",
       "      <td>stairs</td>\n",
       "      <td>1469101157148440</td>\n",
       "      <td>9.914090</td>\n",
       "      <td>-1.308132</td>\n",
       "      <td>0.583138</td>\n",
       "      <td>-0.700337</td>\n",
       "      <td>-2.292610</td>\n",
       "      <td>-1.574801</td>\n",
       "      <td>12</td>\n",
       "    </tr>\n",
       "    <tr>\n",
       "      <th>2856544</th>\n",
       "      <td>1646</td>\n",
       "      <td>stairs</td>\n",
       "      <td>1469101207134330</td>\n",
       "      <td>12.813468</td>\n",
       "      <td>-6.041469</td>\n",
       "      <td>3.432238</td>\n",
       "      <td>1.138309</td>\n",
       "      <td>-1.775957</td>\n",
       "      <td>-1.359618</td>\n",
       "      <td>12</td>\n",
       "    </tr>\n",
       "    <tr>\n",
       "      <th>2856545</th>\n",
       "      <td>1646</td>\n",
       "      <td>stairs</td>\n",
       "      <td>1469101257120220</td>\n",
       "      <td>13.950714</td>\n",
       "      <td>-9.661502</td>\n",
       "      <td>9.922918</td>\n",
       "      <td>0.976389</td>\n",
       "      <td>-0.369808</td>\n",
       "      <td>0.748540</td>\n",
       "      <td>12</td>\n",
       "    </tr>\n",
       "  </tbody>\n",
       "</table>\n",
       "</div>"
      ],
      "text/plain": [
       "         subject_id activity         timestamp    accel_x   accel_y   accel_z  \\\n",
       "2856541        1646   stairs  1469101057176660   5.927744 -0.544382  1.801786   \n",
       "2856542        1646   stairs  1469101107162550   7.632416 -0.192434  1.409137   \n",
       "2856543        1646   stairs  1469101157148440   9.914090 -1.308132  0.583138   \n",
       "2856544        1646   stairs  1469101207134330  12.813468 -6.041469  3.432238   \n",
       "2856545        1646   stairs  1469101257120220  13.950714 -9.661502  9.922918   \n",
       "\n",
       "           gyro_x    gyro_y    gyro_z  label  \n",
       "2856541 -0.453196 -0.850242 -1.097563     12  \n",
       "2856542 -0.899542 -1.831350 -1.386250     12  \n",
       "2856543 -0.700337 -2.292610 -1.574801     12  \n",
       "2856544  1.138309 -1.775957 -1.359618     12  \n",
       "2856545  0.976389 -0.369808  0.748540     12  "
      ]
     },
     "execution_count": 52,
     "metadata": {},
     "output_type": "execute_result"
    }
   ],
   "source": [
    "test_df.head()"
   ]
  },
  {
   "cell_type": "code",
   "execution_count": 91,
   "metadata": {},
   "outputs": [],
   "source": [
    "X_test, y_test = prepare_dataset(test_df)"
   ]
  },
  {
   "cell_type": "code",
   "execution_count": 92,
   "metadata": {},
   "outputs": [
    {
     "data": {
      "text/plain": [
       "((3173, 100, 6), (3173,))"
      ]
     },
     "execution_count": 92,
     "metadata": {},
     "output_type": "execute_result"
    }
   ],
   "source": [
    "X_test.shape, y_test.shape"
   ]
  },
  {
   "cell_type": "code",
   "execution_count": 95,
   "metadata": {},
   "outputs": [
    {
     "data": {
      "text/plain": [
       "[<matplotlib.lines.Line2D at 0x7fde48218390>]"
      ]
     },
     "execution_count": 95,
     "metadata": {},
     "output_type": "execute_result"
    },
    {
     "data": {
      "image/png": "[encoded data removed]",
      "text/plain": [
       "<Figure size 432x288 with 1 Axes>"
      ]
     },
     "metadata": {
      "needs_background": "light"
     },
     "output_type": "display_data"
    }
   ],
   "source": [
    "plt.plot(range(0, len(X_test[100, :1080, 0])), X_test[100, :1080, 0])"
   ]
  },
  {
   "cell_type": "code",
   "execution_count": 96,
   "metadata": {},
   "outputs": [],
   "source": [
    "from numpy import save\n",
    "\n",
    "save('data/X_train.npy', X_train)\n",
    "save('data/y_train.npy', y_train)\n",
    "save('data/X_test', X_test)\n",
    "save('data/y_test', y_test)"
   ]
  },
  {
   "cell_type": "code",
   "execution_count": null,
   "metadata": {},
   "outputs": [],
   "source": []
  }
 ],
 "metadata": {
  "kernelspec": {
   "display_name": "Python 3",
   "language": "python",
   "name": "python3"
  },
  "language_info": {
   "codemirror_mode": {
    "name": "ipython",
    "version": 3
   },
   "file_extension": ".py",
   "mimetype": "text/x-python",
   "name": "python",
   "nbconvert_exporter": "python",
   "pygments_lexer": "ipython3",
   "version": "3.7.5"
  }
 },
 "nbformat": 4,
 "nbformat_minor": 4
}
